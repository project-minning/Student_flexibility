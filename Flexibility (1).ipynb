{
  "metadata": {
    "kernelspec": {
      "name": "python",
      "display_name": "Python (Pyodide)",
      "language": "python"
    },
    "language_info": {
      "codemirror_mode": {
        "name": "python",
        "version": 3
      },
      "file_extension": ".py",
      "mimetype": "text/x-python",
      "name": "python",
      "nbconvert_exporter": "python",
      "pygments_lexer": "ipython3",
      "version": "3.8"
    }
  },
  "nbformat_minor": 4,
  "nbformat": 4,
  "cells": [
    {
      "cell_type": "code",
      "source": "import pandas as pd\ndf = pd.read_csv(\"students_adaptability_level_online_education.csv\",sep=\",\")\ndf",
      "metadata": {
        "trusted": true
      },
      "outputs": [
        {
          "execution_count": 2,
          "output_type": "execute_result",
          "data": {
            "text/plain": "     Education Level Institution Type  Gender  Age  Device IT Student  \\\n0         University          Private    Male   23     Tab         No   \n1         University          Private  Female   23  Mobile         No   \n2            College           Public  Female   18  Mobile         No   \n3             School          Private  Female   11  Mobile         No   \n4             School          Private  Female   18  Mobile         No   \n...              ...              ...     ...  ...     ...        ...   \n1200         College          Private  Female   18  Mobile         No   \n1201         College          Private  Female   18  Mobile         No   \n1202          School          Private    Male   11  Mobile         No   \n1203         College          Private  Female   18  Mobile         No   \n1204          School          Private  Female   11  Mobile         No   \n\n     Location Financial Condition Internet Type Network Type Flexibility Level  \n0        Town                 Mid          Wifi           4G          Moderate  \n1        Town                 Mid   Mobile Data           4G          Moderate  \n2        Town                 Mid          Wifi           4G          Moderate  \n3        Town                 Mid   Mobile Data           4G          Moderate  \n4        Town                Poor   Mobile Data           3G               Low  \n...       ...                 ...           ...          ...               ...  \n1200     Town                 Mid          Wifi           4G               Low  \n1201    Rural                 Mid          Wifi           4G          Moderate  \n1202     Town                 Mid   Mobile Data           3G          Moderate  \n1203    Rural                 Mid          Wifi           4G               Low  \n1204     Town                Poor   Mobile Data           3G          Moderate  \n\n[1205 rows x 11 columns]",
            "text/html": "<div>\n<style scoped>\n    .dataframe tbody tr th:only-of-type {\n        vertical-align: middle;\n    }\n\n    .dataframe tbody tr th {\n        vertical-align: top;\n    }\n\n    .dataframe thead th {\n        text-align: right;\n    }\n</style>\n<table border=\"1\" class=\"dataframe\">\n  <thead>\n    <tr style=\"text-align: right;\">\n      <th></th>\n      <th>Education Level</th>\n      <th>Institution Type</th>\n      <th>Gender</th>\n      <th>Age</th>\n      <th>Device</th>\n      <th>IT Student</th>\n      <th>Location</th>\n      <th>Financial Condition</th>\n      <th>Internet Type</th>\n      <th>Network Type</th>\n      <th>Flexibility Level</th>\n    </tr>\n  </thead>\n  <tbody>\n    <tr>\n      <th>0</th>\n      <td>University</td>\n      <td>Private</td>\n      <td>Male</td>\n      <td>23</td>\n      <td>Tab</td>\n      <td>No</td>\n      <td>Town</td>\n      <td>Mid</td>\n      <td>Wifi</td>\n      <td>4G</td>\n      <td>Moderate</td>\n    </tr>\n    <tr>\n      <th>1</th>\n      <td>University</td>\n      <td>Private</td>\n      <td>Female</td>\n      <td>23</td>\n      <td>Mobile</td>\n      <td>No</td>\n      <td>Town</td>\n      <td>Mid</td>\n      <td>Mobile Data</td>\n      <td>4G</td>\n      <td>Moderate</td>\n    </tr>\n    <tr>\n      <th>2</th>\n      <td>College</td>\n      <td>Public</td>\n      <td>Female</td>\n      <td>18</td>\n      <td>Mobile</td>\n      <td>No</td>\n      <td>Town</td>\n      <td>Mid</td>\n      <td>Wifi</td>\n      <td>4G</td>\n      <td>Moderate</td>\n    </tr>\n    <tr>\n      <th>3</th>\n      <td>School</td>\n      <td>Private</td>\n      <td>Female</td>\n      <td>11</td>\n      <td>Mobile</td>\n      <td>No</td>\n      <td>Town</td>\n      <td>Mid</td>\n      <td>Mobile Data</td>\n      <td>4G</td>\n      <td>Moderate</td>\n    </tr>\n    <tr>\n      <th>4</th>\n      <td>School</td>\n      <td>Private</td>\n      <td>Female</td>\n      <td>18</td>\n      <td>Mobile</td>\n      <td>No</td>\n      <td>Town</td>\n      <td>Poor</td>\n      <td>Mobile Data</td>\n      <td>3G</td>\n      <td>Low</td>\n    </tr>\n    <tr>\n      <th>...</th>\n      <td>...</td>\n      <td>...</td>\n      <td>...</td>\n      <td>...</td>\n      <td>...</td>\n      <td>...</td>\n      <td>...</td>\n      <td>...</td>\n      <td>...</td>\n      <td>...</td>\n      <td>...</td>\n    </tr>\n    <tr>\n      <th>1200</th>\n      <td>College</td>\n      <td>Private</td>\n      <td>Female</td>\n      <td>18</td>\n      <td>Mobile</td>\n      <td>No</td>\n      <td>Town</td>\n      <td>Mid</td>\n      <td>Wifi</td>\n      <td>4G</td>\n      <td>Low</td>\n    </tr>\n    <tr>\n      <th>1201</th>\n      <td>College</td>\n      <td>Private</td>\n      <td>Female</td>\n      <td>18</td>\n      <td>Mobile</td>\n      <td>No</td>\n      <td>Rural</td>\n      <td>Mid</td>\n      <td>Wifi</td>\n      <td>4G</td>\n      <td>Moderate</td>\n    </tr>\n    <tr>\n      <th>1202</th>\n      <td>School</td>\n      <td>Private</td>\n      <td>Male</td>\n      <td>11</td>\n      <td>Mobile</td>\n      <td>No</td>\n      <td>Town</td>\n      <td>Mid</td>\n      <td>Mobile Data</td>\n      <td>3G</td>\n      <td>Moderate</td>\n    </tr>\n    <tr>\n      <th>1203</th>\n      <td>College</td>\n      <td>Private</td>\n      <td>Female</td>\n      <td>18</td>\n      <td>Mobile</td>\n      <td>No</td>\n      <td>Rural</td>\n      <td>Mid</td>\n      <td>Wifi</td>\n      <td>4G</td>\n      <td>Low</td>\n    </tr>\n    <tr>\n      <th>1204</th>\n      <td>School</td>\n      <td>Private</td>\n      <td>Female</td>\n      <td>11</td>\n      <td>Mobile</td>\n      <td>No</td>\n      <td>Town</td>\n      <td>Poor</td>\n      <td>Mobile Data</td>\n      <td>3G</td>\n      <td>Moderate</td>\n    </tr>\n  </tbody>\n</table>\n<p>1205 rows × 11 columns</p>\n</div>"
          },
          "metadata": {}
        }
      ],
      "execution_count": 2
    },
    {
      "cell_type": "markdown",
      "source": "preprocessing techniques",
      "metadata": {}
    },
    {
      "cell_type": "markdown",
      "source": "1 - Check missing “NA” :\r",
      "metadata": {
        "jp-MarkdownHeadingCollapsed": true
      }
    },
    {
      "cell_type": "code",
      "source": "missing_values = df.isna().sum()\nprint(\"\\nTotal number of missing values in the dataset:\", missing_values.sum())",
      "metadata": {
        "trusted": true
      },
      "outputs": [
        {
          "name": "stdout",
          "text": "\nTotal number of missing values in the dataset: 0\n",
          "output_type": "stream"
        }
      ],
      "execution_count": 3
    },
    {
      "cell_type": "markdown",
      "source": "2 -Detect Outlier using mean method :",
      "metadata": {}
    },
    {
      "cell_type": "code",
      "source": "\nage_column = df['Age']\nmean_age = age_column.mean()\ndifferences_from_mean = abs(age_column - mean_age)\n\n# Find the index of the row with the largest difference from the mean\nmax_difference_index = differences_from_mean.idxmax()\n\n# Remove the row with the largest difference from the mean\ndf_no_outlier = df.drop(max_difference_index)\n\n\nprint(\"\\nDataFrame after removing the row with the largest difference from the mean:\")\ndf_no_outlier\n",
      "metadata": {
        "trusted": true
      },
      "outputs": [
        {
          "name": "stdout",
          "text": "\nDataFrame after removing the row with the largest difference from the mean:\n",
          "output_type": "stream"
        },
        {
          "execution_count": 12,
          "output_type": "execute_result",
          "data": {
            "text/plain": "     Education Level Institution Type  Gender  Age  Device IT Student  \\\n0         University          Private    Male   23     Tab         No   \n1         University          Private  Female   23  Mobile         No   \n2            College           Public  Female   18  Mobile         No   \n3             School          Private  Female   11  Mobile         No   \n4             School          Private  Female   18  Mobile         No   \n...              ...              ...     ...  ...     ...        ...   \n1200         College          Private  Female   18  Mobile         No   \n1201         College          Private  Female   18  Mobile         No   \n1202          School          Private    Male   11  Mobile         No   \n1203         College          Private  Female   18  Mobile         No   \n1204          School          Private  Female   11  Mobile         No   \n\n     Location Financial Condition Internet Type Network Type Flexibility Level  \n0        Town                 Mid          Wifi           4G          Moderate  \n1        Town                 Mid   Mobile Data           4G          Moderate  \n2        Town                 Mid          Wifi           4G          Moderate  \n3        Town                 Mid   Mobile Data           4G          Moderate  \n4        Town                Poor   Mobile Data           3G               Low  \n...       ...                 ...           ...          ...               ...  \n1200     Town                 Mid          Wifi           4G               Low  \n1201    Rural                 Mid          Wifi           4G          Moderate  \n1202     Town                 Mid   Mobile Data           3G          Moderate  \n1203    Rural                 Mid          Wifi           4G               Low  \n1204     Town                Poor   Mobile Data           3G          Moderate  \n\n[1204 rows x 11 columns]",
            "text/html": "<div>\n<style scoped>\n    .dataframe tbody tr th:only-of-type {\n        vertical-align: middle;\n    }\n\n    .dataframe tbody tr th {\n        vertical-align: top;\n    }\n\n    .dataframe thead th {\n        text-align: right;\n    }\n</style>\n<table border=\"1\" class=\"dataframe\">\n  <thead>\n    <tr style=\"text-align: right;\">\n      <th></th>\n      <th>Education Level</th>\n      <th>Institution Type</th>\n      <th>Gender</th>\n      <th>Age</th>\n      <th>Device</th>\n      <th>IT Student</th>\n      <th>Location</th>\n      <th>Financial Condition</th>\n      <th>Internet Type</th>\n      <th>Network Type</th>\n      <th>Flexibility Level</th>\n    </tr>\n  </thead>\n  <tbody>\n    <tr>\n      <th>0</th>\n      <td>University</td>\n      <td>Private</td>\n      <td>Male</td>\n      <td>23</td>\n      <td>Tab</td>\n      <td>No</td>\n      <td>Town</td>\n      <td>Mid</td>\n      <td>Wifi</td>\n      <td>4G</td>\n      <td>Moderate</td>\n    </tr>\n    <tr>\n      <th>1</th>\n      <td>University</td>\n      <td>Private</td>\n      <td>Female</td>\n      <td>23</td>\n      <td>Mobile</td>\n      <td>No</td>\n      <td>Town</td>\n      <td>Mid</td>\n      <td>Mobile Data</td>\n      <td>4G</td>\n      <td>Moderate</td>\n    </tr>\n    <tr>\n      <th>2</th>\n      <td>College</td>\n      <td>Public</td>\n      <td>Female</td>\n      <td>18</td>\n      <td>Mobile</td>\n      <td>No</td>\n      <td>Town</td>\n      <td>Mid</td>\n      <td>Wifi</td>\n      <td>4G</td>\n      <td>Moderate</td>\n    </tr>\n    <tr>\n      <th>3</th>\n      <td>School</td>\n      <td>Private</td>\n      <td>Female</td>\n      <td>11</td>\n      <td>Mobile</td>\n      <td>No</td>\n      <td>Town</td>\n      <td>Mid</td>\n      <td>Mobile Data</td>\n      <td>4G</td>\n      <td>Moderate</td>\n    </tr>\n    <tr>\n      <th>4</th>\n      <td>School</td>\n      <td>Private</td>\n      <td>Female</td>\n      <td>18</td>\n      <td>Mobile</td>\n      <td>No</td>\n      <td>Town</td>\n      <td>Poor</td>\n      <td>Mobile Data</td>\n      <td>3G</td>\n      <td>Low</td>\n    </tr>\n    <tr>\n      <th>...</th>\n      <td>...</td>\n      <td>...</td>\n      <td>...</td>\n      <td>...</td>\n      <td>...</td>\n      <td>...</td>\n      <td>...</td>\n      <td>...</td>\n      <td>...</td>\n      <td>...</td>\n      <td>...</td>\n    </tr>\n    <tr>\n      <th>1200</th>\n      <td>College</td>\n      <td>Private</td>\n      <td>Female</td>\n      <td>18</td>\n      <td>Mobile</td>\n      <td>No</td>\n      <td>Town</td>\n      <td>Mid</td>\n      <td>Wifi</td>\n      <td>4G</td>\n      <td>Low</td>\n    </tr>\n    <tr>\n      <th>1201</th>\n      <td>College</td>\n      <td>Private</td>\n      <td>Female</td>\n      <td>18</td>\n      <td>Mobile</td>\n      <td>No</td>\n      <td>Rural</td>\n      <td>Mid</td>\n      <td>Wifi</td>\n      <td>4G</td>\n      <td>Moderate</td>\n    </tr>\n    <tr>\n      <th>1202</th>\n      <td>School</td>\n      <td>Private</td>\n      <td>Male</td>\n      <td>11</td>\n      <td>Mobile</td>\n      <td>No</td>\n      <td>Town</td>\n      <td>Mid</td>\n      <td>Mobile Data</td>\n      <td>3G</td>\n      <td>Moderate</td>\n    </tr>\n    <tr>\n      <th>1203</th>\n      <td>College</td>\n      <td>Private</td>\n      <td>Female</td>\n      <td>18</td>\n      <td>Mobile</td>\n      <td>No</td>\n      <td>Rural</td>\n      <td>Mid</td>\n      <td>Wifi</td>\n      <td>4G</td>\n      <td>Low</td>\n    </tr>\n    <tr>\n      <th>1204</th>\n      <td>School</td>\n      <td>Private</td>\n      <td>Female</td>\n      <td>11</td>\n      <td>Mobile</td>\n      <td>No</td>\n      <td>Town</td>\n      <td>Poor</td>\n      <td>Mobile Data</td>\n      <td>3G</td>\n      <td>Moderate</td>\n    </tr>\n  </tbody>\n</table>\n<p>1204 rows × 11 columns</p>\n</div>"
          },
          "metadata": {}
        }
      ],
      "execution_count": 12
    },
    {
      "cell_type": "markdown",
      "source": "3 -variable transformation: ",
      "metadata": {}
    },
    {
      "cell_type": "code",
      "source": "from sklearn.preprocessing import LabelEncoder\nfrom scipy import stats\nle = LabelEncoder()\ndf['Flexibility Level'] = le. fit_transform(df['Flexibility Level'] )\ndf['Education Level'] = le. fit_transform(df['Education Level'])\ndf['Gender'] = le. fit_transform(df['Gender'])\ndf['Location'] = le. fit_transform(df['Location'])   \ndf['Internet Type'] = le. fit_transform(df['Internet Type']  ) \ndf",
      "metadata": {
        "trusted": true
      },
      "outputs": [
        {
          "execution_count": 16,
          "output_type": "execute_result",
          "data": {
            "text/plain": "      Education Level Institution Type  Gender  Age  Device IT Student  \\\n0                   2          Private       1   23     Tab         No   \n1                   2          Private       0   23  Mobile         No   \n2                   0           Public       0   18  Mobile         No   \n3                   1          Private       0   11  Mobile         No   \n4                   1          Private       0   18  Mobile         No   \n...               ...              ...     ...  ...     ...        ...   \n1200                0          Private       0   18  Mobile         No   \n1201                0          Private       0   18  Mobile         No   \n1202                1          Private       1   11  Mobile         No   \n1203                0          Private       0   18  Mobile         No   \n1204                1          Private       0   11  Mobile         No   \n\n      Location Financial Condition  Internet Type Network Type  \\\n0            1                 Mid              1           4G   \n1            1                 Mid              0           4G   \n2            1                 Mid              1           4G   \n3            1                 Mid              0           4G   \n4            1                Poor              0           3G   \n...        ...                 ...            ...          ...   \n1200         1                 Mid              1           4G   \n1201         0                 Mid              1           4G   \n1202         1                 Mid              0           3G   \n1203         0                 Mid              1           4G   \n1204         1                Poor              0           3G   \n\n      Flexibility Level  \n0                     2  \n1                     2  \n2                     2  \n3                     2  \n4                     1  \n...                 ...  \n1200                  1  \n1201                  2  \n1202                  2  \n1203                  1  \n1204                  2  \n\n[1205 rows x 11 columns]",
            "text/html": "<div>\n<style scoped>\n    .dataframe tbody tr th:only-of-type {\n        vertical-align: middle;\n    }\n\n    .dataframe tbody tr th {\n        vertical-align: top;\n    }\n\n    .dataframe thead th {\n        text-align: right;\n    }\n</style>\n<table border=\"1\" class=\"dataframe\">\n  <thead>\n    <tr style=\"text-align: right;\">\n      <th></th>\n      <th>Education Level</th>\n      <th>Institution Type</th>\n      <th>Gender</th>\n      <th>Age</th>\n      <th>Device</th>\n      <th>IT Student</th>\n      <th>Location</th>\n      <th>Financial Condition</th>\n      <th>Internet Type</th>\n      <th>Network Type</th>\n      <th>Flexibility Level</th>\n    </tr>\n  </thead>\n  <tbody>\n    <tr>\n      <th>0</th>\n      <td>2</td>\n      <td>Private</td>\n      <td>1</td>\n      <td>23</td>\n      <td>Tab</td>\n      <td>No</td>\n      <td>1</td>\n      <td>Mid</td>\n      <td>1</td>\n      <td>4G</td>\n      <td>2</td>\n    </tr>\n    <tr>\n      <th>1</th>\n      <td>2</td>\n      <td>Private</td>\n      <td>0</td>\n      <td>23</td>\n      <td>Mobile</td>\n      <td>No</td>\n      <td>1</td>\n      <td>Mid</td>\n      <td>0</td>\n      <td>4G</td>\n      <td>2</td>\n    </tr>\n    <tr>\n      <th>2</th>\n      <td>0</td>\n      <td>Public</td>\n      <td>0</td>\n      <td>18</td>\n      <td>Mobile</td>\n      <td>No</td>\n      <td>1</td>\n      <td>Mid</td>\n      <td>1</td>\n      <td>4G</td>\n      <td>2</td>\n    </tr>\n    <tr>\n      <th>3</th>\n      <td>1</td>\n      <td>Private</td>\n      <td>0</td>\n      <td>11</td>\n      <td>Mobile</td>\n      <td>No</td>\n      <td>1</td>\n      <td>Mid</td>\n      <td>0</td>\n      <td>4G</td>\n      <td>2</td>\n    </tr>\n    <tr>\n      <th>4</th>\n      <td>1</td>\n      <td>Private</td>\n      <td>0</td>\n      <td>18</td>\n      <td>Mobile</td>\n      <td>No</td>\n      <td>1</td>\n      <td>Poor</td>\n      <td>0</td>\n      <td>3G</td>\n      <td>1</td>\n    </tr>\n    <tr>\n      <th>...</th>\n      <td>...</td>\n      <td>...</td>\n      <td>...</td>\n      <td>...</td>\n      <td>...</td>\n      <td>...</td>\n      <td>...</td>\n      <td>...</td>\n      <td>...</td>\n      <td>...</td>\n      <td>...</td>\n    </tr>\n    <tr>\n      <th>1200</th>\n      <td>0</td>\n      <td>Private</td>\n      <td>0</td>\n      <td>18</td>\n      <td>Mobile</td>\n      <td>No</td>\n      <td>1</td>\n      <td>Mid</td>\n      <td>1</td>\n      <td>4G</td>\n      <td>1</td>\n    </tr>\n    <tr>\n      <th>1201</th>\n      <td>0</td>\n      <td>Private</td>\n      <td>0</td>\n      <td>18</td>\n      <td>Mobile</td>\n      <td>No</td>\n      <td>0</td>\n      <td>Mid</td>\n      <td>1</td>\n      <td>4G</td>\n      <td>2</td>\n    </tr>\n    <tr>\n      <th>1202</th>\n      <td>1</td>\n      <td>Private</td>\n      <td>1</td>\n      <td>11</td>\n      <td>Mobile</td>\n      <td>No</td>\n      <td>1</td>\n      <td>Mid</td>\n      <td>0</td>\n      <td>3G</td>\n      <td>2</td>\n    </tr>\n    <tr>\n      <th>1203</th>\n      <td>0</td>\n      <td>Private</td>\n      <td>0</td>\n      <td>18</td>\n      <td>Mobile</td>\n      <td>No</td>\n      <td>0</td>\n      <td>Mid</td>\n      <td>1</td>\n      <td>4G</td>\n      <td>1</td>\n    </tr>\n    <tr>\n      <th>1204</th>\n      <td>1</td>\n      <td>Private</td>\n      <td>0</td>\n      <td>11</td>\n      <td>Mobile</td>\n      <td>No</td>\n      <td>1</td>\n      <td>Poor</td>\n      <td>0</td>\n      <td>3G</td>\n      <td>2</td>\n    </tr>\n  </tbody>\n</table>\n<p>1205 rows × 11 columns</p>\n</div>"
          },
          "metadata": {}
        }
      ],
      "execution_count": 16
    },
    {
      "cell_type": "markdown",
      "source": "4 -Normalization :",
      "metadata": {}
    },
    {
      "cell_type": "code",
      "source": "from sklearn.preprocessing import MinMaxScaler\n\n# Extract columns to normalize\ncolumns_to_normalize = ['Age']\ndata_to_normalize = df[columns_to_normalize]\n\n# Min-Max scaling for selected columns\nminmax_scaler = MinMaxScaler()\nnormalized_data_minmax = minmax_scaler.fit_transform(data_to_normalize)\n\n# Replace the normalized values in the original DataFrame\ndf[columns_to_normalize] = normalized_data_minmax\n\nprint(\"Min-Max scaled data :\")\ndf",
      "metadata": {
        "trusted": true
      },
      "outputs": [
        {
          "name": "stdout",
          "text": "Min-Max scaled data :\n",
          "output_type": "stream"
        },
        {
          "execution_count": 19,
          "output_type": "execute_result",
          "data": {
            "text/plain": "      Education Level Institution Type  Gender       Age  Device IT Student  \\\n0                   2          Private       1  0.777778     Tab         No   \n1                   2          Private       0  0.777778  Mobile         No   \n2                   0           Public       0  0.500000  Mobile         No   \n3                   1          Private       0  0.111111  Mobile         No   \n4                   1          Private       0  0.500000  Mobile         No   \n...               ...              ...     ...       ...     ...        ...   \n1200                0          Private       0  0.500000  Mobile         No   \n1201                0          Private       0  0.500000  Mobile         No   \n1202                1          Private       1  0.111111  Mobile         No   \n1203                0          Private       0  0.500000  Mobile         No   \n1204                1          Private       0  0.111111  Mobile         No   \n\n      Location Financial Condition  Internet Type Network Type  \\\n0            1                 Mid              1           4G   \n1            1                 Mid              0           4G   \n2            1                 Mid              1           4G   \n3            1                 Mid              0           4G   \n4            1                Poor              0           3G   \n...        ...                 ...            ...          ...   \n1200         1                 Mid              1           4G   \n1201         0                 Mid              1           4G   \n1202         1                 Mid              0           3G   \n1203         0                 Mid              1           4G   \n1204         1                Poor              0           3G   \n\n      Flexibility Level  \n0                     2  \n1                     2  \n2                     2  \n3                     2  \n4                     1  \n...                 ...  \n1200                  1  \n1201                  2  \n1202                  2  \n1203                  1  \n1204                  2  \n\n[1205 rows x 11 columns]",
            "text/html": "<div>\n<style scoped>\n    .dataframe tbody tr th:only-of-type {\n        vertical-align: middle;\n    }\n\n    .dataframe tbody tr th {\n        vertical-align: top;\n    }\n\n    .dataframe thead th {\n        text-align: right;\n    }\n</style>\n<table border=\"1\" class=\"dataframe\">\n  <thead>\n    <tr style=\"text-align: right;\">\n      <th></th>\n      <th>Education Level</th>\n      <th>Institution Type</th>\n      <th>Gender</th>\n      <th>Age</th>\n      <th>Device</th>\n      <th>IT Student</th>\n      <th>Location</th>\n      <th>Financial Condition</th>\n      <th>Internet Type</th>\n      <th>Network Type</th>\n      <th>Flexibility Level</th>\n    </tr>\n  </thead>\n  <tbody>\n    <tr>\n      <th>0</th>\n      <td>2</td>\n      <td>Private</td>\n      <td>1</td>\n      <td>0.777778</td>\n      <td>Tab</td>\n      <td>No</td>\n      <td>1</td>\n      <td>Mid</td>\n      <td>1</td>\n      <td>4G</td>\n      <td>2</td>\n    </tr>\n    <tr>\n      <th>1</th>\n      <td>2</td>\n      <td>Private</td>\n      <td>0</td>\n      <td>0.777778</td>\n      <td>Mobile</td>\n      <td>No</td>\n      <td>1</td>\n      <td>Mid</td>\n      <td>0</td>\n      <td>4G</td>\n      <td>2</td>\n    </tr>\n    <tr>\n      <th>2</th>\n      <td>0</td>\n      <td>Public</td>\n      <td>0</td>\n      <td>0.500000</td>\n      <td>Mobile</td>\n      <td>No</td>\n      <td>1</td>\n      <td>Mid</td>\n      <td>1</td>\n      <td>4G</td>\n      <td>2</td>\n    </tr>\n    <tr>\n      <th>3</th>\n      <td>1</td>\n      <td>Private</td>\n      <td>0</td>\n      <td>0.111111</td>\n      <td>Mobile</td>\n      <td>No</td>\n      <td>1</td>\n      <td>Mid</td>\n      <td>0</td>\n      <td>4G</td>\n      <td>2</td>\n    </tr>\n    <tr>\n      <th>4</th>\n      <td>1</td>\n      <td>Private</td>\n      <td>0</td>\n      <td>0.500000</td>\n      <td>Mobile</td>\n      <td>No</td>\n      <td>1</td>\n      <td>Poor</td>\n      <td>0</td>\n      <td>3G</td>\n      <td>1</td>\n    </tr>\n    <tr>\n      <th>...</th>\n      <td>...</td>\n      <td>...</td>\n      <td>...</td>\n      <td>...</td>\n      <td>...</td>\n      <td>...</td>\n      <td>...</td>\n      <td>...</td>\n      <td>...</td>\n      <td>...</td>\n      <td>...</td>\n    </tr>\n    <tr>\n      <th>1200</th>\n      <td>0</td>\n      <td>Private</td>\n      <td>0</td>\n      <td>0.500000</td>\n      <td>Mobile</td>\n      <td>No</td>\n      <td>1</td>\n      <td>Mid</td>\n      <td>1</td>\n      <td>4G</td>\n      <td>1</td>\n    </tr>\n    <tr>\n      <th>1201</th>\n      <td>0</td>\n      <td>Private</td>\n      <td>0</td>\n      <td>0.500000</td>\n      <td>Mobile</td>\n      <td>No</td>\n      <td>0</td>\n      <td>Mid</td>\n      <td>1</td>\n      <td>4G</td>\n      <td>2</td>\n    </tr>\n    <tr>\n      <th>1202</th>\n      <td>1</td>\n      <td>Private</td>\n      <td>1</td>\n      <td>0.111111</td>\n      <td>Mobile</td>\n      <td>No</td>\n      <td>1</td>\n      <td>Mid</td>\n      <td>0</td>\n      <td>3G</td>\n      <td>2</td>\n    </tr>\n    <tr>\n      <th>1203</th>\n      <td>0</td>\n      <td>Private</td>\n      <td>0</td>\n      <td>0.500000</td>\n      <td>Mobile</td>\n      <td>No</td>\n      <td>0</td>\n      <td>Mid</td>\n      <td>1</td>\n      <td>4G</td>\n      <td>1</td>\n    </tr>\n    <tr>\n      <th>1204</th>\n      <td>1</td>\n      <td>Private</td>\n      <td>0</td>\n      <td>0.111111</td>\n      <td>Mobile</td>\n      <td>No</td>\n      <td>1</td>\n      <td>Poor</td>\n      <td>0</td>\n      <td>3G</td>\n      <td>2</td>\n    </tr>\n  </tbody>\n</table>\n<p>1205 rows × 11 columns</p>\n</div>"
          },
          "metadata": {}
        }
      ],
      "execution_count": 19
    },
    {
      "cell_type": "markdown",
      "source": "5 -Discretization :",
      "metadata": {}
    },
    {
      "cell_type": "code",
      "source": "import pandas as pd\ndf = pd.read_csv(\"students_adaptability_level_online_education.csv\",sep=\",\")\n# Discretization for a specific column ('Age')\ncolumn_to_discretize = 'Age'\nnum_bins = 3 # Number of bins\n\n# Perform discretization using the cut function\ndf['discretized_' + column_to_discretize] = pd.cut(df[column_to_discretize], bins=num_bins, labels=False)\n\ndf[['Age', 'discretized_Age']] # Displaying relevant columns",
      "metadata": {
        "trusted": true
      },
      "outputs": [
        {
          "execution_count": 25,
          "output_type": "execute_result",
          "data": {
            "text/plain": "      Age  discretized_Age\n0      23                2\n1      23                2\n2      18                1\n3      11                0\n4      18                1\n...   ...              ...\n1200   18                1\n1201   18                1\n1202   11                0\n1203   18                1\n1204   11                0\n\n[1205 rows x 2 columns]",
            "text/html": "<div>\n<style scoped>\n    .dataframe tbody tr th:only-of-type {\n        vertical-align: middle;\n    }\n\n    .dataframe tbody tr th {\n        vertical-align: top;\n    }\n\n    .dataframe thead th {\n        text-align: right;\n    }\n</style>\n<table border=\"1\" class=\"dataframe\">\n  <thead>\n    <tr style=\"text-align: right;\">\n      <th></th>\n      <th>Age</th>\n      <th>discretized_Age</th>\n    </tr>\n  </thead>\n  <tbody>\n    <tr>\n      <th>0</th>\n      <td>23</td>\n      <td>2</td>\n    </tr>\n    <tr>\n      <th>1</th>\n      <td>23</td>\n      <td>2</td>\n    </tr>\n    <tr>\n      <th>2</th>\n      <td>18</td>\n      <td>1</td>\n    </tr>\n    <tr>\n      <th>3</th>\n      <td>11</td>\n      <td>0</td>\n    </tr>\n    <tr>\n      <th>4</th>\n      <td>18</td>\n      <td>1</td>\n    </tr>\n    <tr>\n      <th>...</th>\n      <td>...</td>\n      <td>...</td>\n    </tr>\n    <tr>\n      <th>1200</th>\n      <td>18</td>\n      <td>1</td>\n    </tr>\n    <tr>\n      <th>1201</th>\n      <td>18</td>\n      <td>1</td>\n    </tr>\n    <tr>\n      <th>1202</th>\n      <td>11</td>\n      <td>0</td>\n    </tr>\n    <tr>\n      <th>1203</th>\n      <td>18</td>\n      <td>1</td>\n    </tr>\n    <tr>\n      <th>1204</th>\n      <td>11</td>\n      <td>0</td>\n    </tr>\n  </tbody>\n</table>\n<p>1205 rows × 2 columns</p>\n</div>"
          },
          "metadata": {}
        }
      ],
      "execution_count": 25
    },
    {
      "cell_type": "markdown",
      "source": "6 -Chi squared :",
      "metadata": {}
    },
    {
      "cell_type": "code",
      "source": "from scipy.stats import chi2_contingency\nimport pandas as pd\ndf = pd.read_csv(\"students_adaptability_level_online_education.csv\",sep=\",\")\n# Create a contingency table\ncontingency_table = pd.crosstab(df['Flexibility Level'], df['Education Level'])\nprint(\"Contingency Table:\")\nprint(contingency_table)\n# Perform the chi-square test\nchi2_stat, p_value, dof, expected = chi2_contingency(contingency_table)\nprint(\"\\nChi-Square Statistic:\", chi2_stat)\nprint(\"Degrees of Freedom:\", dof)\nprint(\"Expected Frequencies:\")\nprint(expected)",
      "metadata": {
        "trusted": true
      },
      "outputs": [
        {
          "name": "stdout",
          "text": "Contingency Table:\nEducation Level    College  School  University\nFlexibility Level                             \nHigh                     3      47          50\nLow                    120     182         178\nModerate                96     301         228\n\nChi-Square Statistic: 38.68597806832386\nDegrees of Freedom: 4\nExpected Frequencies:\n[[ 18.17427386  43.98340249  37.84232365]\n [ 87.23651452 211.12033195 181.64315353]\n [113.58921162 274.89626556 236.51452282]]\n",
          "output_type": "stream"
        }
      ],
      "execution_count": 37
    },
    {
      "cell_type": "markdown",
      "source": "7 -Feature selection - Recursive Feature Elimination",
      "metadata": {}
    },
    {
      "cell_type": "code",
      "source": "import pandas as pd\nfrom sklearn.feature_selection import RFE\nfrom sklearn.linear_model import LogisticRegression\nfrom sklearn.preprocessing import OneHotEncoder\n\n# Load the dataset using pandas\ndata = pd.read_csv('students_adaptability_level_online_education.csv')\n\n# Identify categorical columns\ncategorical_columns = ['Flexibility Level', 'Education Level']\n\n# One-hot encode categorical columns\nencoder = OneHotEncoder()\nX_encoded = encoder.fit_transform(data[categorical_columns])\n\n# Define target variable\ny = data['Flexibility Level']  # Assuming 'Flexibility Level' is the target variable\n\n# Use RFE with Logistic Regression as the underlying model\nmodel = LogisticRegression()\nrfe = RFE(model, n_features_to_select=2)  # Select top 2 features\nX_new = rfe.fit_transform(X_encoded, y)\n\n# Display the selected features\nselected_features = [i for i, mask in enumerate(rfe.support_) if mask]\nprint(\"Selected Features:\", selected_features)\n\n",
      "metadata": {
        "trusted": true
      },
      "outputs": [
        {
          "name": "stdout",
          "text": "Selected Features: [1, 2]\n",
          "output_type": "stream"
        }
      ],
      "execution_count": 56
    },
    {
      "cell_type": "markdown",
      "source": "8 -Feature selection - Correlation-based Feature Selection (Filter Method)",
      "metadata": {}
    },
    {
      "cell_type": "code",
      "source": "import pandas as pd\nfrom sklearn.feature_selection import SelectKBest, f_classif\nfrom sklearn.preprocessing import OneHotEncoder\n\n# Load the dataset using pandas\ndata = pd.read_csv('students_adaptability_level_online_education.csv')\n\n# Identify categorical columns\ncategorical_columns = ['Flexibility Level', 'Education Level']\n\n# One-hot encode categorical columns\nencoder = OneHotEncoder()\nX_encoded = encoder.fit_transform(data[categorical_columns])\n\n# Define target variable\ny = data['Flexibility Level']  # Assuming 'Flexibility Level' is the target variable\n\n# Convert the sparse matrix into a dense array\nX_dense = X_encoded.toarray()\n\n# Use SelectKBest with f_classif as the scoring function\nselector = SelectKBest(score_func=f_classif, k=2) # Select top 2 features\nX_new = selector.fit_transform(X_dense, y)\n\n# Display the selected features\nselected_features = data.columns[selector.get_support(indices=True)]\nprint(\"Selected Features:\", selected_features)\n",
      "metadata": {
        "trusted": true
      },
      "outputs": [
        {
          "name": "stdout",
          "text": "Selected Features: Index(['Institution Type', 'Gender'], dtype='object')\n",
          "output_type": "stream"
        }
      ],
      "execution_count": 62
    },
    {
      "cell_type": "markdown",
      "source": "9 -Correlation Coefficient : we dont have 2 types of numerical attribute",
      "metadata": {}
    },
    {
      "cell_type": "markdown",
      "source": "statistical summaries :",
      "metadata": {}
    },
    {
      "cell_type": "code",
      "source": "import pandas as pd\ndf = pd.read_csv(\"students_adaptability_level_online_education.csv\",sep=\",\")\ndf.describe()\n",
      "metadata": {
        "trusted": true
      },
      "outputs": [
        {
          "execution_count": 67,
          "output_type": "execute_result",
          "data": {
            "text/plain": "               Age\ncount  1205.000000\nmean     17.065560\nstd       5.830369\nmin       9.000000\n25%      11.000000\n50%      18.000000\n75%      23.000000\nmax      27.000000",
            "text/html": "<div>\n<style scoped>\n    .dataframe tbody tr th:only-of-type {\n        vertical-align: middle;\n    }\n\n    .dataframe tbody tr th {\n        vertical-align: top;\n    }\n\n    .dataframe thead th {\n        text-align: right;\n    }\n</style>\n<table border=\"1\" class=\"dataframe\">\n  <thead>\n    <tr style=\"text-align: right;\">\n      <th></th>\n      <th>Age</th>\n    </tr>\n  </thead>\n  <tbody>\n    <tr>\n      <th>count</th>\n      <td>1205.000000</td>\n    </tr>\n    <tr>\n      <th>mean</th>\n      <td>17.065560</td>\n    </tr>\n    <tr>\n      <th>std</th>\n      <td>5.830369</td>\n    </tr>\n    <tr>\n      <th>min</th>\n      <td>9.000000</td>\n    </tr>\n    <tr>\n      <th>25%</th>\n      <td>11.000000</td>\n    </tr>\n    <tr>\n      <th>50%</th>\n      <td>18.000000</td>\n    </tr>\n    <tr>\n      <th>75%</th>\n      <td>23.000000</td>\n    </tr>\n    <tr>\n      <th>max</th>\n      <td>27.000000</td>\n    </tr>\n  </tbody>\n</table>\n</div>"
          },
          "metadata": {}
        }
      ],
      "execution_count": 67
    },
    {
      "cell_type": "code",
      "source": "var_data = df[\"Age\"] . var()\nprint(var_data)",
      "metadata": {
        "trusted": true
      },
      "outputs": [
        {
          "name": "stdout",
          "text": "33.993206600405294\n",
          "output_type": "stream"
        }
      ],
      "execution_count": 68
    },
    {
      "cell_type": "code",
      "source": "import numpy as np\nfrom scipy.stats import mode\nimport pandas as pd\ndf = pd.read_csv(\"students_adaptability_level_online_education.csv\",sep=\",\")\n# Median\nmedian_value = df[\"Age\"].median()\nprint(\"Median:\", median_value)\n\n# Mode\n\nmode_result = df[\"Age\"].mode()\nprint(\"Mode:\", mode_result)",
      "metadata": {
        "trusted": true
      },
      "outputs": [
        {
          "name": "stdout",
          "text": "Median: 18.0\nMode: 0    23\nName: Age, dtype: int64\n",
          "output_type": "stream"
        }
      ],
      "execution_count": 74
    },
    {
      "cell_type": "code",
      "source": "",
      "metadata": {
        "trusted": true
      },
      "outputs": [],
      "execution_count": null
    }
  ]
}