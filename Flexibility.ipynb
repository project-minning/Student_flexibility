{
  "metadata": {
    "kernelspec": {
      "name": "python",
      "display_name": "Python (Pyodide)",
      "language": "python"
    },
    "language_info": {
      "codemirror_mode": {
        "name": "python",
        "version": 3
      },
      "file_extension": ".py",
      "mimetype": "text/x-python",
      "name": "python",
      "nbconvert_exporter": "python",
      "pygments_lexer": "ipython3",
      "version": "3.8"
    }
  },
  "nbformat_minor": 4,
  "nbformat": 4,
  "cells": [
    {
      "cell_type": "code",
      "source": "import pandas as pd\ndf = pd.read_csv(\"students_adaptability_level_online_education.csv\",sep=\",\")\ndf",
      "metadata": {
        "trusted": true
      },
      "outputs": [
        {
          "execution_count": 2,
          "output_type": "execute_result",
          "data": {
            "text/plain": "     Education Level Institution Type  Gender  Age  Device IT Student  \\\n0         University          Private    Male   23     Tab         No   \n1         University          Private  Female   23  Mobile         No   \n2            College           Public  Female   18  Mobile         No   \n3             School          Private  Female   11  Mobile         No   \n4             School          Private  Female   18  Mobile         No   \n...              ...              ...     ...  ...     ...        ...   \n1200         College          Private  Female   18  Mobile         No   \n1201         College          Private  Female   18  Mobile         No   \n1202          School          Private    Male   11  Mobile         No   \n1203         College          Private  Female   18  Mobile         No   \n1204          School          Private  Female   11  Mobile         No   \n\n     Location Financial Condition Internet Type Network Type Flexibility Level  \n0        Town                 Mid          Wifi           4G          Moderate  \n1        Town                 Mid   Mobile Data           4G          Moderate  \n2        Town                 Mid          Wifi           4G          Moderate  \n3        Town                 Mid   Mobile Data           4G          Moderate  \n4        Town                Poor   Mobile Data           3G               Low  \n...       ...                 ...           ...          ...               ...  \n1200     Town                 Mid          Wifi           4G               Low  \n1201    Rural                 Mid          Wifi           4G          Moderate  \n1202     Town                 Mid   Mobile Data           3G          Moderate  \n1203    Rural                 Mid          Wifi           4G               Low  \n1204     Town                Poor   Mobile Data           3G          Moderate  \n\n[1205 rows x 11 columns]",
            "text/html": "<div>\n<style scoped>\n    .dataframe tbody tr th:only-of-type {\n        vertical-align: middle;\n    }\n\n    .dataframe tbody tr th {\n        vertical-align: top;\n    }\n\n    .dataframe thead th {\n        text-align: right;\n    }\n</style>\n<table border=\"1\" class=\"dataframe\">\n  <thead>\n    <tr style=\"text-align: right;\">\n      <th></th>\n      <th>Education Level</th>\n      <th>Institution Type</th>\n      <th>Gender</th>\n      <th>Age</th>\n      <th>Device</th>\n      <th>IT Student</th>\n      <th>Location</th>\n      <th>Financial Condition</th>\n      <th>Internet Type</th>\n      <th>Network Type</th>\n      <th>Flexibility Level</th>\n    </tr>\n  </thead>\n  <tbody>\n    <tr>\n      <th>0</th>\n      <td>University</td>\n      <td>Private</td>\n      <td>Male</td>\n      <td>23</td>\n      <td>Tab</td>\n      <td>No</td>\n      <td>Town</td>\n      <td>Mid</td>\n      <td>Wifi</td>\n      <td>4G</td>\n      <td>Moderate</td>\n    </tr>\n    <tr>\n      <th>1</th>\n      <td>University</td>\n      <td>Private</td>\n      <td>Female</td>\n      <td>23</td>\n      <td>Mobile</td>\n      <td>No</td>\n      <td>Town</td>\n      <td>Mid</td>\n      <td>Mobile Data</td>\n      <td>4G</td>\n      <td>Moderate</td>\n    </tr>\n    <tr>\n      <th>2</th>\n      <td>College</td>\n      <td>Public</td>\n      <td>Female</td>\n      <td>18</td>\n      <td>Mobile</td>\n      <td>No</td>\n      <td>Town</td>\n      <td>Mid</td>\n      <td>Wifi</td>\n      <td>4G</td>\n      <td>Moderate</td>\n    </tr>\n    <tr>\n      <th>3</th>\n      <td>School</td>\n      <td>Private</td>\n      <td>Female</td>\n      <td>11</td>\n      <td>Mobile</td>\n      <td>No</td>\n      <td>Town</td>\n      <td>Mid</td>\n      <td>Mobile Data</td>\n      <td>4G</td>\n      <td>Moderate</td>\n    </tr>\n    <tr>\n      <th>4</th>\n      <td>School</td>\n      <td>Private</td>\n      <td>Female</td>\n      <td>18</td>\n      <td>Mobile</td>\n      <td>No</td>\n      <td>Town</td>\n      <td>Poor</td>\n      <td>Mobile Data</td>\n      <td>3G</td>\n      <td>Low</td>\n    </tr>\n    <tr>\n      <th>...</th>\n      <td>...</td>\n      <td>...</td>\n      <td>...</td>\n      <td>...</td>\n      <td>...</td>\n      <td>...</td>\n      <td>...</td>\n      <td>...</td>\n      <td>...</td>\n      <td>...</td>\n      <td>...</td>\n    </tr>\n    <tr>\n      <th>1200</th>\n      <td>College</td>\n      <td>Private</td>\n      <td>Female</td>\n      <td>18</td>\n      <td>Mobile</td>\n      <td>No</td>\n      <td>Town</td>\n      <td>Mid</td>\n      <td>Wifi</td>\n      <td>4G</td>\n      <td>Low</td>\n    </tr>\n    <tr>\n      <th>1201</th>\n      <td>College</td>\n      <td>Private</td>\n      <td>Female</td>\n      <td>18</td>\n      <td>Mobile</td>\n      <td>No</td>\n      <td>Rural</td>\n      <td>Mid</td>\n      <td>Wifi</td>\n      <td>4G</td>\n      <td>Moderate</td>\n    </tr>\n    <tr>\n      <th>1202</th>\n      <td>School</td>\n      <td>Private</td>\n      <td>Male</td>\n      <td>11</td>\n      <td>Mobile</td>\n      <td>No</td>\n      <td>Town</td>\n      <td>Mid</td>\n      <td>Mobile Data</td>\n      <td>3G</td>\n      <td>Moderate</td>\n    </tr>\n    <tr>\n      <th>1203</th>\n      <td>College</td>\n      <td>Private</td>\n      <td>Female</td>\n      <td>18</td>\n      <td>Mobile</td>\n      <td>No</td>\n      <td>Rural</td>\n      <td>Mid</td>\n      <td>Wifi</td>\n      <td>4G</td>\n      <td>Low</td>\n    </tr>\n    <tr>\n      <th>1204</th>\n      <td>School</td>\n      <td>Private</td>\n      <td>Female</td>\n      <td>11</td>\n      <td>Mobile</td>\n      <td>No</td>\n      <td>Town</td>\n      <td>Poor</td>\n      <td>Mobile Data</td>\n      <td>3G</td>\n      <td>Moderate</td>\n    </tr>\n  </tbody>\n</table>\n<p>1205 rows × 11 columns</p>\n</div>"
          },
          "metadata": {}
        }
      ],
      "execution_count": 2
    },
    {
      "cell_type": "markdown",
      "source": "preprocessing techniques\n",
      "metadata": {}
    },
    {
      "cell_type": "markdown",
      "source": "1 - Check missing “NA” :\r",
      "metadata": {
        "jp-MarkdownHeadingCollapsed": true
      }
    },
    {
      "cell_type": "code",
      "source": "missing_values = df.isna().sum()\nprint(\"\\nTotal number of missing values in the dataset:\", missing_values.sum())",
      "metadata": {
        "trusted": true
      },
      "outputs": [
        {
          "name": "stdout",
          "text": "\nTotal number of missing values in the dataset: 0\n",
          "output_type": "stream"
        }
      ],
      "execution_count": 3
    },
    {
      "cell_type": "markdown",
      "source": "2 -Detect Outlier using mean method :",
      "metadata": {}
    },
    {
      "cell_type": "code",
      "source": "\nage_column = df['Age']\nmean_age = age_column.mean()\ndifferences_from_mean = abs(age_column - mean_age)\n\n# Find the index of the row with the largest difference from the mean\nmax_difference_index = differences_from_mean.idxmax()\n\n# Remove the row with the largest difference from the mean\ndf_no_outlier = df.drop(max_difference_index)\n\n\nprint(\"\\nDataFrame after removing the row with the largest difference from the mean:\")\ndf_no_outlier\n",
      "metadata": {
        "trusted": true
      },
      "outputs": [
        {
          "name": "stdout",
          "text": "\nDataFrame after removing the row with the largest difference from the mean:\n",
          "output_type": "stream"
        },
        {
          "execution_count": 12,
          "output_type": "execute_result",
          "data": {
            "text/plain": "     Education Level Institution Type  Gender  Age  Device IT Student  \\\n0         University          Private    Male   23     Tab         No   \n1         University          Private  Female   23  Mobile         No   \n2            College           Public  Female   18  Mobile         No   \n3             School          Private  Female   11  Mobile         No   \n4             School          Private  Female   18  Mobile         No   \n...              ...              ...     ...  ...     ...        ...   \n1200         College          Private  Female   18  Mobile         No   \n1201         College          Private  Female   18  Mobile         No   \n1202          School          Private    Male   11  Mobile         No   \n1203         College          Private  Female   18  Mobile         No   \n1204          School          Private  Female   11  Mobile         No   \n\n     Location Financial Condition Internet Type Network Type Flexibility Level  \n0        Town                 Mid          Wifi           4G          Moderate  \n1        Town                 Mid   Mobile Data           4G          Moderate  \n2        Town                 Mid          Wifi           4G          Moderate  \n3        Town                 Mid   Mobile Data           4G          Moderate  \n4        Town                Poor   Mobile Data           3G               Low  \n...       ...                 ...           ...          ...               ...  \n1200     Town                 Mid          Wifi           4G               Low  \n1201    Rural                 Mid          Wifi           4G          Moderate  \n1202     Town                 Mid   Mobile Data           3G          Moderate  \n1203    Rural                 Mid          Wifi           4G               Low  \n1204     Town                Poor   Mobile Data           3G          Moderate  \n\n[1204 rows x 11 columns]",
            "text/html": "<div>\n<style scoped>\n    .dataframe tbody tr th:only-of-type {\n        vertical-align: middle;\n    }\n\n    .dataframe tbody tr th {\n        vertical-align: top;\n    }\n\n    .dataframe thead th {\n        text-align: right;\n    }\n</style>\n<table border=\"1\" class=\"dataframe\">\n  <thead>\n    <tr style=\"text-align: right;\">\n      <th></th>\n      <th>Education Level</th>\n      <th>Institution Type</th>\n      <th>Gender</th>\n      <th>Age</th>\n      <th>Device</th>\n      <th>IT Student</th>\n      <th>Location</th>\n      <th>Financial Condition</th>\n      <th>Internet Type</th>\n      <th>Network Type</th>\n      <th>Flexibility Level</th>\n    </tr>\n  </thead>\n  <tbody>\n    <tr>\n      <th>0</th>\n      <td>University</td>\n      <td>Private</td>\n      <td>Male</td>\n      <td>23</td>\n      <td>Tab</td>\n      <td>No</td>\n      <td>Town</td>\n      <td>Mid</td>\n      <td>Wifi</td>\n      <td>4G</td>\n      <td>Moderate</td>\n    </tr>\n    <tr>\n      <th>1</th>\n      <td>University</td>\n      <td>Private</td>\n      <td>Female</td>\n      <td>23</td>\n      <td>Mobile</td>\n      <td>No</td>\n      <td>Town</td>\n      <td>Mid</td>\n      <td>Mobile Data</td>\n      <td>4G</td>\n      <td>Moderate</td>\n    </tr>\n    <tr>\n      <th>2</th>\n      <td>College</td>\n      <td>Public</td>\n      <td>Female</td>\n      <td>18</td>\n      <td>Mobile</td>\n      <td>No</td>\n      <td>Town</td>\n      <td>Mid</td>\n      <td>Wifi</td>\n      <td>4G</td>\n      <td>Moderate</td>\n    </tr>\n    <tr>\n      <th>3</th>\n      <td>School</td>\n      <td>Private</td>\n      <td>Female</td>\n      <td>11</td>\n      <td>Mobile</td>\n      <td>No</td>\n      <td>Town</td>\n      <td>Mid</td>\n      <td>Mobile Data</td>\n      <td>4G</td>\n      <td>Moderate</td>\n    </tr>\n    <tr>\n      <th>4</th>\n      <td>School</td>\n      <td>Private</td>\n      <td>Female</td>\n      <td>18</td>\n      <td>Mobile</td>\n      <td>No</td>\n      <td>Town</td>\n      <td>Poor</td>\n      <td>Mobile Data</td>\n      <td>3G</td>\n      <td>Low</td>\n    </tr>\n    <tr>\n      <th>...</th>\n      <td>...</td>\n      <td>...</td>\n      <td>...</td>\n      <td>...</td>\n      <td>...</td>\n      <td>...</td>\n      <td>...</td>\n      <td>...</td>\n      <td>...</td>\n      <td>...</td>\n      <td>...</td>\n    </tr>\n    <tr>\n      <th>1200</th>\n      <td>College</td>\n      <td>Private</td>\n      <td>Female</td>\n      <td>18</td>\n      <td>Mobile</td>\n      <td>No</td>\n      <td>Town</td>\n      <td>Mid</td>\n      <td>Wifi</td>\n      <td>4G</td>\n      <td>Low</td>\n    </tr>\n    <tr>\n      <th>1201</th>\n      <td>College</td>\n      <td>Private</td>\n      <td>Female</td>\n      <td>18</td>\n      <td>Mobile</td>\n      <td>No</td>\n      <td>Rural</td>\n      <td>Mid</td>\n      <td>Wifi</td>\n      <td>4G</td>\n      <td>Moderate</td>\n    </tr>\n    <tr>\n      <th>1202</th>\n      <td>School</td>\n      <td>Private</td>\n      <td>Male</td>\n      <td>11</td>\n      <td>Mobile</td>\n      <td>No</td>\n      <td>Town</td>\n      <td>Mid</td>\n      <td>Mobile Data</td>\n      <td>3G</td>\n      <td>Moderate</td>\n    </tr>\n    <tr>\n      <th>1203</th>\n      <td>College</td>\n      <td>Private</td>\n      <td>Female</td>\n      <td>18</td>\n      <td>Mobile</td>\n      <td>No</td>\n      <td>Rural</td>\n      <td>Mid</td>\n      <td>Wifi</td>\n      <td>4G</td>\n      <td>Low</td>\n    </tr>\n    <tr>\n      <th>1204</th>\n      <td>School</td>\n      <td>Private</td>\n      <td>Female</td>\n      <td>11</td>\n      <td>Mobile</td>\n      <td>No</td>\n      <td>Town</td>\n      <td>Poor</td>\n      <td>Mobile Data</td>\n      <td>3G</td>\n      <td>Moderate</td>\n    </tr>\n  </tbody>\n</table>\n<p>1204 rows × 11 columns</p>\n</div>"
          },
          "metadata": {}
        }
      ],
      "execution_count": 12
    },
    {
      "cell_type": "markdown",
      "source": "3 -variable transformation: ",
      "metadata": {}
    },
    {
      "cell_type": "code",
      "source": "from sklearn.preprocessing import LabelEncoder\nfrom scipy import stats\nle = LabelEncoder()\ndf['Flexibility Level'] = le. fit_transform(df['Flexibility Level'] )\ndf['Education Level'] = le. fit_transform(df['Education Level'])\ndf['Gender'] = le. fit_transform(df['Gender'])\ndf['Location'] = le. fit_transform(df['Location'])   \ndf['Internet Type'] = le. fit_transform(df['Internet Type']  ) \ndf",
      "metadata": {
        "trusted": true
      },
      "outputs": [
        {
          "execution_count": 16,
          "output_type": "execute_result",
          "data": {
            "text/plain": "      Education Level Institution Type  Gender  Age  Device IT Student  \\\n0                   2          Private       1   23     Tab         No   \n1                   2          Private       0   23  Mobile         No   \n2                   0           Public       0   18  Mobile         No   \n3                   1          Private       0   11  Mobile         No   \n4                   1          Private       0   18  Mobile         No   \n...               ...              ...     ...  ...     ...        ...   \n1200                0          Private       0   18  Mobile         No   \n1201                0          Private       0   18  Mobile         No   \n1202                1          Private       1   11  Mobile         No   \n1203                0          Private       0   18  Mobile         No   \n1204                1          Private       0   11  Mobile         No   \n\n      Location Financial Condition  Internet Type Network Type  \\\n0            1                 Mid              1           4G   \n1            1                 Mid              0           4G   \n2            1                 Mid              1           4G   \n3            1                 Mid              0           4G   \n4            1                Poor              0           3G   \n...        ...                 ...            ...          ...   \n1200         1                 Mid              1           4G   \n1201         0                 Mid              1           4G   \n1202         1                 Mid              0           3G   \n1203         0                 Mid              1           4G   \n1204         1                Poor              0           3G   \n\n      Flexibility Level  \n0                     2  \n1                     2  \n2                     2  \n3                     2  \n4                     1  \n...                 ...  \n1200                  1  \n1201                  2  \n1202                  2  \n1203                  1  \n1204                  2  \n\n[1205 rows x 11 columns]",
            "text/html": "<div>\n<style scoped>\n    .dataframe tbody tr th:only-of-type {\n        vertical-align: middle;\n    }\n\n    .dataframe tbody tr th {\n        vertical-align: top;\n    }\n\n    .dataframe thead th {\n        text-align: right;\n    }\n</style>\n<table border=\"1\" class=\"dataframe\">\n  <thead>\n    <tr style=\"text-align: right;\">\n      <th></th>\n      <th>Education Level</th>\n      <th>Institution Type</th>\n      <th>Gender</th>\n      <th>Age</th>\n      <th>Device</th>\n      <th>IT Student</th>\n      <th>Location</th>\n      <th>Financial Condition</th>\n      <th>Internet Type</th>\n      <th>Network Type</th>\n      <th>Flexibility Level</th>\n    </tr>\n  </thead>\n  <tbody>\n    <tr>\n      <th>0</th>\n      <td>2</td>\n      <td>Private</td>\n      <td>1</td>\n      <td>23</td>\n      <td>Tab</td>\n      <td>No</td>\n      <td>1</td>\n      <td>Mid</td>\n      <td>1</td>\n      <td>4G</td>\n      <td>2</td>\n    </tr>\n    <tr>\n      <th>1</th>\n      <td>2</td>\n      <td>Private</td>\n      <td>0</td>\n      <td>23</td>\n      <td>Mobile</td>\n      <td>No</td>\n      <td>1</td>\n      <td>Mid</td>\n      <td>0</td>\n      <td>4G</td>\n      <td>2</td>\n    </tr>\n    <tr>\n      <th>2</th>\n      <td>0</td>\n      <td>Public</td>\n      <td>0</td>\n      <td>18</td>\n      <td>Mobile</td>\n      <td>No</td>\n      <td>1</td>\n      <td>Mid</td>\n      <td>1</td>\n      <td>4G</td>\n      <td>2</td>\n    </tr>\n    <tr>\n      <th>3</th>\n      <td>1</td>\n      <td>Private</td>\n      <td>0</td>\n      <td>11</td>\n      <td>Mobile</td>\n      <td>No</td>\n      <td>1</td>\n      <td>Mid</td>\n      <td>0</td>\n      <td>4G</td>\n      <td>2</td>\n    </tr>\n    <tr>\n      <th>4</th>\n      <td>1</td>\n      <td>Private</td>\n      <td>0</td>\n      <td>18</td>\n      <td>Mobile</td>\n      <td>No</td>\n      <td>1</td>\n      <td>Poor</td>\n      <td>0</td>\n      <td>3G</td>\n      <td>1</td>\n    </tr>\n    <tr>\n      <th>...</th>\n      <td>...</td>\n      <td>...</td>\n      <td>...</td>\n      <td>...</td>\n      <td>...</td>\n      <td>...</td>\n      <td>...</td>\n      <td>...</td>\n      <td>...</td>\n      <td>...</td>\n      <td>...</td>\n    </tr>\n    <tr>\n      <th>1200</th>\n      <td>0</td>\n      <td>Private</td>\n      <td>0</td>\n      <td>18</td>\n      <td>Mobile</td>\n      <td>No</td>\n      <td>1</td>\n      <td>Mid</td>\n      <td>1</td>\n      <td>4G</td>\n      <td>1</td>\n    </tr>\n    <tr>\n      <th>1201</th>\n      <td>0</td>\n      <td>Private</td>\n      <td>0</td>\n      <td>18</td>\n      <td>Mobile</td>\n      <td>No</td>\n      <td>0</td>\n      <td>Mid</td>\n      <td>1</td>\n      <td>4G</td>\n      <td>2</td>\n    </tr>\n    <tr>\n      <th>1202</th>\n      <td>1</td>\n      <td>Private</td>\n      <td>1</td>\n      <td>11</td>\n      <td>Mobile</td>\n      <td>No</td>\n      <td>1</td>\n      <td>Mid</td>\n      <td>0</td>\n      <td>3G</td>\n      <td>2</td>\n    </tr>\n    <tr>\n      <th>1203</th>\n      <td>0</td>\n      <td>Private</td>\n      <td>0</td>\n      <td>18</td>\n      <td>Mobile</td>\n      <td>No</td>\n      <td>0</td>\n      <td>Mid</td>\n      <td>1</td>\n      <td>4G</td>\n      <td>1</td>\n    </tr>\n    <tr>\n      <th>1204</th>\n      <td>1</td>\n      <td>Private</td>\n      <td>0</td>\n      <td>11</td>\n      <td>Mobile</td>\n      <td>No</td>\n      <td>1</td>\n      <td>Poor</td>\n      <td>0</td>\n      <td>3G</td>\n      <td>2</td>\n    </tr>\n  </tbody>\n</table>\n<p>1205 rows × 11 columns</p>\n</div>"
          },
          "metadata": {}
        }
      ],
      "execution_count": 16
    },
    {
      "cell_type": "markdown",
      "source": "4 -Normalization :",
      "metadata": {}
    },
    {
      "cell_type": "code",
      "source": "from sklearn.preprocessing import MinMaxScaler\n\n# Extract columns to normalize\ncolumns_to_normalize = ['Age']\ndata_to_normalize = df[columns_to_normalize]\n\n# Min-Max scaling for selected columns\nminmax_scaler = MinMaxScaler()\nnormalized_data_minmax = minmax_scaler.fit_transform(data_to_normalize)\n\n# Replace the normalized values in the original DataFrame\ndf[columns_to_normalize] = normalized_data_minmax\n\nprint(\"Min-Max scaled data :\")\ndf",
      "metadata": {
        "trusted": true
      },
      "outputs": [
        {
          "name": "stdout",
          "text": "Min-Max scaled data :\n",
          "output_type": "stream"
        },
        {
          "execution_count": 19,
          "output_type": "execute_result",
          "data": {
            "text/plain": "      Education Level Institution Type  Gender       Age  Device IT Student  \\\n0                   2          Private       1  0.777778     Tab         No   \n1                   2          Private       0  0.777778  Mobile         No   \n2                   0           Public       0  0.500000  Mobile         No   \n3                   1          Private       0  0.111111  Mobile         No   \n4                   1          Private       0  0.500000  Mobile         No   \n...               ...              ...     ...       ...     ...        ...   \n1200                0          Private       0  0.500000  Mobile         No   \n1201                0          Private       0  0.500000  Mobile         No   \n1202                1          Private       1  0.111111  Mobile         No   \n1203                0          Private       0  0.500000  Mobile         No   \n1204                1          Private       0  0.111111  Mobile         No   \n\n      Location Financial Condition  Internet Type Network Type  \\\n0            1                 Mid              1           4G   \n1            1                 Mid              0           4G   \n2            1                 Mid              1           4G   \n3            1                 Mid              0           4G   \n4            1                Poor              0           3G   \n...        ...                 ...            ...          ...   \n1200         1                 Mid              1           4G   \n1201         0                 Mid              1           4G   \n1202         1                 Mid              0           3G   \n1203         0                 Mid              1           4G   \n1204         1                Poor              0           3G   \n\n      Flexibility Level  \n0                     2  \n1                     2  \n2                     2  \n3                     2  \n4                     1  \n...                 ...  \n1200                  1  \n1201                  2  \n1202                  2  \n1203                  1  \n1204                  2  \n\n[1205 rows x 11 columns]",
            "text/html": "<div>\n<style scoped>\n    .dataframe tbody tr th:only-of-type {\n        vertical-align: middle;\n    }\n\n    .dataframe tbody tr th {\n        vertical-align: top;\n    }\n\n    .dataframe thead th {\n        text-align: right;\n    }\n</style>\n<table border=\"1\" class=\"dataframe\">\n  <thead>\n    <tr style=\"text-align: right;\">\n      <th></th>\n      <th>Education Level</th>\n      <th>Institution Type</th>\n      <th>Gender</th>\n      <th>Age</th>\n      <th>Device</th>\n      <th>IT Student</th>\n      <th>Location</th>\n      <th>Financial Condition</th>\n      <th>Internet Type</th>\n      <th>Network Type</th>\n      <th>Flexibility Level</th>\n    </tr>\n  </thead>\n  <tbody>\n    <tr>\n      <th>0</th>\n      <td>2</td>\n      <td>Private</td>\n      <td>1</td>\n      <td>0.777778</td>\n      <td>Tab</td>\n      <td>No</td>\n      <td>1</td>\n      <td>Mid</td>\n      <td>1</td>\n      <td>4G</td>\n      <td>2</td>\n    </tr>\n    <tr>\n      <th>1</th>\n      <td>2</td>\n      <td>Private</td>\n      <td>0</td>\n      <td>0.777778</td>\n      <td>Mobile</td>\n      <td>No</td>\n      <td>1</td>\n      <td>Mid</td>\n      <td>0</td>\n      <td>4G</td>\n      <td>2</td>\n    </tr>\n    <tr>\n      <th>2</th>\n      <td>0</td>\n      <td>Public</td>\n      <td>0</td>\n      <td>0.500000</td>\n      <td>Mobile</td>\n      <td>No</td>\n      <td>1</td>\n      <td>Mid</td>\n      <td>1</td>\n      <td>4G</td>\n      <td>2</td>\n    </tr>\n    <tr>\n      <th>3</th>\n      <td>1</td>\n      <td>Private</td>\n      <td>0</td>\n      <td>0.111111</td>\n      <td>Mobile</td>\n      <td>No</td>\n      <td>1</td>\n      <td>Mid</td>\n      <td>0</td>\n      <td>4G</td>\n      <td>2</td>\n    </tr>\n    <tr>\n      <th>4</th>\n      <td>1</td>\n      <td>Private</td>\n      <td>0</td>\n      <td>0.500000</td>\n      <td>Mobile</td>\n      <td>No</td>\n      <td>1</td>\n      <td>Poor</td>\n      <td>0</td>\n      <td>3G</td>\n      <td>1</td>\n    </tr>\n    <tr>\n      <th>...</th>\n      <td>...</td>\n      <td>...</td>\n      <td>...</td>\n      <td>...</td>\n      <td>...</td>\n      <td>...</td>\n      <td>...</td>\n      <td>...</td>\n      <td>...</td>\n      <td>...</td>\n      <td>...</td>\n    </tr>\n    <tr>\n      <th>1200</th>\n      <td>0</td>\n      <td>Private</td>\n      <td>0</td>\n      <td>0.500000</td>\n      <td>Mobile</td>\n      <td>No</td>\n      <td>1</td>\n      <td>Mid</td>\n      <td>1</td>\n      <td>4G</td>\n      <td>1</td>\n    </tr>\n    <tr>\n      <th>1201</th>\n      <td>0</td>\n      <td>Private</td>\n      <td>0</td>\n      <td>0.500000</td>\n      <td>Mobile</td>\n      <td>No</td>\n      <td>0</td>\n      <td>Mid</td>\n      <td>1</td>\n      <td>4G</td>\n      <td>2</td>\n    </tr>\n    <tr>\n      <th>1202</th>\n      <td>1</td>\n      <td>Private</td>\n      <td>1</td>\n      <td>0.111111</td>\n      <td>Mobile</td>\n      <td>No</td>\n      <td>1</td>\n      <td>Mid</td>\n      <td>0</td>\n      <td>3G</td>\n      <td>2</td>\n    </tr>\n    <tr>\n      <th>1203</th>\n      <td>0</td>\n      <td>Private</td>\n      <td>0</td>\n      <td>0.500000</td>\n      <td>Mobile</td>\n      <td>No</td>\n      <td>0</td>\n      <td>Mid</td>\n      <td>1</td>\n      <td>4G</td>\n      <td>1</td>\n    </tr>\n    <tr>\n      <th>1204</th>\n      <td>1</td>\n      <td>Private</td>\n      <td>0</td>\n      <td>0.111111</td>\n      <td>Mobile</td>\n      <td>No</td>\n      <td>1</td>\n      <td>Poor</td>\n      <td>0</td>\n      <td>3G</td>\n      <td>2</td>\n    </tr>\n  </tbody>\n</table>\n<p>1205 rows × 11 columns</p>\n</div>"
          },
          "metadata": {}
        }
      ],
      "execution_count": 19
    },
    {
      "cell_type": "markdown",
      "source": "5 -Discretization :",
      "metadata": {}
    },
    {
      "cell_type": "code",
      "source": "import pandas as pd\ndf = pd.read_csv(\"students_adaptability_level_online_education.csv\",sep=\",\")\n# Discretization for a specific column ('Age')\ncolumn_to_discretize = 'Age'\nnum_bins = 3 # Number of bins\n\n# Perform discretization using the cut function\ndf['discretized_' + column_to_discretize] = pd.cut(df[column_to_discretize], bins=num_bins, labels=False)\n\ndf[['Age', 'discretized_Age']] # Displaying relevant columns",
      "metadata": {
        "trusted": true
      },
      "outputs": [
        {
          "execution_count": 25,
          "output_type": "execute_result",
          "data": {
            "text/plain": "      Age  discretized_Age\n0      23                2\n1      23                2\n2      18                1\n3      11                0\n4      18                1\n...   ...              ...\n1200   18                1\n1201   18                1\n1202   11                0\n1203   18                1\n1204   11                0\n\n[1205 rows x 2 columns]",
            "text/html": "<div>\n<style scoped>\n    .dataframe tbody tr th:only-of-type {\n        vertical-align: middle;\n    }\n\n    .dataframe tbody tr th {\n        vertical-align: top;\n    }\n\n    .dataframe thead th {\n        text-align: right;\n    }\n</style>\n<table border=\"1\" class=\"dataframe\">\n  <thead>\n    <tr style=\"text-align: right;\">\n      <th></th>\n      <th>Age</th>\n      <th>discretized_Age</th>\n    </tr>\n  </thead>\n  <tbody>\n    <tr>\n      <th>0</th>\n      <td>23</td>\n      <td>2</td>\n    </tr>\n    <tr>\n      <th>1</th>\n      <td>23</td>\n      <td>2</td>\n    </tr>\n    <tr>\n      <th>2</th>\n      <td>18</td>\n      <td>1</td>\n    </tr>\n    <tr>\n      <th>3</th>\n      <td>11</td>\n      <td>0</td>\n    </tr>\n    <tr>\n      <th>4</th>\n      <td>18</td>\n      <td>1</td>\n    </tr>\n    <tr>\n      <th>...</th>\n      <td>...</td>\n      <td>...</td>\n    </tr>\n    <tr>\n      <th>1200</th>\n      <td>18</td>\n      <td>1</td>\n    </tr>\n    <tr>\n      <th>1201</th>\n      <td>18</td>\n      <td>1</td>\n    </tr>\n    <tr>\n      <th>1202</th>\n      <td>11</td>\n      <td>0</td>\n    </tr>\n    <tr>\n      <th>1203</th>\n      <td>18</td>\n      <td>1</td>\n    </tr>\n    <tr>\n      <th>1204</th>\n      <td>11</td>\n      <td>0</td>\n    </tr>\n  </tbody>\n</table>\n<p>1205 rows × 2 columns</p>\n</div>"
          },
          "metadata": {}
        }
      ],
      "execution_count": 25
    },
    {
      "cell_type": "markdown",
      "source": "6 -Correlation Coefficient",
      "metadata": {}
    },
    {
      "cell_type": "code",
      "source": "",
      "metadata": {
        "trusted": true
      },
      "outputs": [],
      "execution_count": null
    }
  ]
}